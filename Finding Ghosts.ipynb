{
 "cells": [
  {
   "cell_type": "markdown",
   "metadata": {},
   "source": [
    "<h2>Finding Ghosts</h2>\n",
    "<h2>Traccar 테스트 데이터 분석 - 데이터 수집량을 중심으로</h2>\n",
    "<p>In theory, our tester's Traccar clients are supposed to send position data at every minutes. In fact, there is a delay of few seconds, practically. This is acceptable. However, we found that some clients didn't send data about a 3-6 hours.</p>\n",
    "<p>We have to figure out why.</p>\n",
    "<p>일부 환경에서 Traccar 가 오랜 기간 (몇 시간) 동안 데이터를 송신하지 않는 현상을 확인해야 한다.\n",
    "주로 아이폰에서 일어나는 것으로 파악.</p>"
   ]
  },
  {
   "cell_type": "markdown",
   "metadata": {},
   "source": [
    "<p>Date: 201901</p>\n",
    "<p>Traccar Server: v4.2</p>\n",
    "<p>Freq.: 60 sec.</p>\n",
    "<table>\n",
    "    <thead>\n",
    "        <tr>\n",
    "            <th>Name</th>\n",
    "            <th>Phone</th>\n",
    "            <th>OS</th>\n",
    "            <th>Traccar Client</th>\n",
    "        </tr>\n",
    "    </thead>\n",
    "    <tbody>\n",
    "        <tr>\n",
    "            <td>DBLAB0101</td>\n",
    "            <td>V20</td>\n",
    "            <td>8.0.0/F800K20i</td>\n",
    "            <td>5.17</td>            \n",
    "        </tr>\n",
    "        <tr>\n",
    "            <td>DBLAB0102</td>\n",
    "            <td>S5</td>\n",
    "            <td>6.0.1/F800K20i</td>\n",
    "            <td>5.17</td>            \n",
    "        </tr>\n",
    "        <tr>\n",
    "            <td>DBLAB0103</td>\n",
    "            <td>iPhone 6</td>\n",
    "            <td>12.1.2/16C104</td>\n",
    "            <td>5.5</td>            \n",
    "        </tr>\n",
    "        <tr>\n",
    "            <td>DBLAB0201</td>\n",
    "            <td>iPhone XS</td>\n",
    "            <td>12.1.2</td>\n",
    "            <td>5.5</td>            \n",
    "        </tr>\n",
    "        <tr>\n",
    "            <td>DBLAB0301</td>\n",
    "            <td>iPhone X</td>\n",
    "            <td>12.1.3 beta 4</td>\n",
    "            <td>5.5</td>            \n",
    "        </tr>\n",
    "        <tr>\n",
    "            <td>HCICG01</td>\n",
    "            <td>?</td>\n",
    "            <td>?</td>\n",
    "            <td>?</td>            \n",
    "        </tr>\n",
    "    </tbody>\n",
    "</table>"
   ]
  },
  {
   "cell_type": "markdown",
   "metadata": {},
   "source": [
    "<p>어쩌다 알아내게 된 것: Traccar 클라이언트가 신호를 올바르게 보내지만 서버에 등록되어있지 않았던 경우 다시 등록하면 한방에 다 보낸다...</p>\n",
    "<p>HCICG0160 실험자 자료 (1월 9일 종료)</p>"
   ]
  },
  {
   "cell_type": "code",
   "execution_count": 40,
   "metadata": {},
   "outputs": [],
   "source": [
    "import pandas as pd\n",
    "import json\n",
    "from pandas.io.json import json_normalize #package for flattening json in pandas df\n",
    "from sqlalchemy import create_engine\n",
    "from sqlalchemy.engine.url import URL\n",
    "import copy\n",
    "from datetime import timedelta, date"
   ]
  },
  {
   "cell_type": "code",
   "execution_count": 2,
   "metadata": {},
   "outputs": [],
   "source": [
    "dbconfig = json.loads(open(\"res/dbconfig.properties\").read())\n",
    "engine = create_engine(URL(**dbconfig[\"cssc_jaunt\"]))"
   ]
  },
  {
   "cell_type": "code",
   "execution_count": 3,
   "metadata": {},
   "outputs": [],
   "source": [
    "sql = \"select id, name, lastupdate from tc_devices;\"\n",
    "users = pd.read_sql_query(sql, engine)"
   ]
  },
  {
   "cell_type": "code",
   "execution_count": 4,
   "metadata": {},
   "outputs": [
    {
     "data": {
      "text/html": [
       "<div>\n",
       "<style scoped>\n",
       "    .dataframe tbody tr th:only-of-type {\n",
       "        vertical-align: middle;\n",
       "    }\n",
       "\n",
       "    .dataframe tbody tr th {\n",
       "        vertical-align: top;\n",
       "    }\n",
       "\n",
       "    .dataframe thead th {\n",
       "        text-align: right;\n",
       "    }\n",
       "</style>\n",
       "<table border=\"1\" class=\"dataframe\">\n",
       "  <thead>\n",
       "    <tr style=\"text-align: right;\">\n",
       "      <th></th>\n",
       "      <th>id</th>\n",
       "      <th>name</th>\n",
       "      <th>lastupdate</th>\n",
       "    </tr>\n",
       "  </thead>\n",
       "  <tbody>\n",
       "    <tr>\n",
       "      <th>0</th>\n",
       "      <td>52</td>\n",
       "      <td>DBLAB0103</td>\n",
       "      <td>2019-01-25 09:05:08.970</td>\n",
       "    </tr>\n",
       "    <tr>\n",
       "      <th>1</th>\n",
       "      <td>54</td>\n",
       "      <td>HCICG01</td>\n",
       "      <td>2019-01-25 14:07:59.466</td>\n",
       "    </tr>\n",
       "    <tr>\n",
       "      <th>2</th>\n",
       "      <td>50</td>\n",
       "      <td>DBLAB0201</td>\n",
       "      <td>2019-01-25 14:20:56.631</td>\n",
       "    </tr>\n",
       "    <tr>\n",
       "      <th>3</th>\n",
       "      <td>51</td>\n",
       "      <td>DBLAB0102</td>\n",
       "      <td>2019-01-25 14:21:10.055</td>\n",
       "    </tr>\n",
       "    <tr>\n",
       "      <th>4</th>\n",
       "      <td>48</td>\n",
       "      <td>DBLAB0301</td>\n",
       "      <td>2019-01-18 09:47:04.167</td>\n",
       "    </tr>\n",
       "    <tr>\n",
       "      <th>5</th>\n",
       "      <td>49</td>\n",
       "      <td>DBLAB0101</td>\n",
       "      <td>2019-01-20 17:54:21.261</td>\n",
       "    </tr>\n",
       "  </tbody>\n",
       "</table>\n",
       "</div>"
      ],
      "text/plain": [
       "   id       name              lastupdate\n",
       "0  52  DBLAB0103 2019-01-25 09:05:08.970\n",
       "1  54    HCICG01 2019-01-25 14:07:59.466\n",
       "2  50  DBLAB0201 2019-01-25 14:20:56.631\n",
       "3  51  DBLAB0102 2019-01-25 14:21:10.055\n",
       "4  48  DBLAB0301 2019-01-18 09:47:04.167\n",
       "5  49  DBLAB0101 2019-01-20 17:54:21.261"
      ]
     },
     "execution_count": 4,
     "metadata": {},
     "output_type": "execute_result"
    }
   ],
   "source": [
    "users"
   ]
  },
  {
   "cell_type": "code",
   "execution_count": 5,
   "metadata": {},
   "outputs": [
    {
     "data": {
      "text/plain": [
       "'[\"DBLAB0103\",\"HCICG01\",\"DBLAB0201\",\"DBLAB0102\",\"DBLAB0301\",\"DBLAB0101\"]'"
      ]
     },
     "execution_count": 5,
     "metadata": {},
     "output_type": "execute_result"
    }
   ],
   "source": [
    "pos_query = \"select d.name, p.* from tc_positions p, tc_devices d where p.deviceid = d.id and d.id IN (select id from tc_devices where name=ANY({$users}))\"\n",
    "users_str = users['name'].to_json(force_ascii=False, orient='values')\n",
    "users_str"
   ]
  },
  {
   "cell_type": "code",
   "execution_count": 6,
   "metadata": {},
   "outputs": [
    {
     "data": {
      "text/plain": [
       "'{\"DBLAB0103\",\"HCICG01\",\"DBLAB0201\",\"DBLAB0102\",\"DBLAB0301\",\"DBLAB0101\"}'"
      ]
     },
     "execution_count": 6,
     "metadata": {},
     "output_type": "execute_result"
    }
   ],
   "source": [
    "#pgsql array style string : { ... }\n",
    "users_str = list(users_str)\n",
    "users_str[0] = '{'\n",
    "users_str[-1] = '}'\n",
    "users_str = \"\".join(users_str)\n",
    "users_str"
   ]
  },
  {
   "cell_type": "code",
   "execution_count": 7,
   "metadata": {},
   "outputs": [
    {
     "data": {
      "text/plain": [
       "'select d.name, p.* from tc_positions p, tc_devices d where p.deviceid = d.id and d.id IN (select id from tc_devices where name=ANY(\\'{\"DBLAB0103\",\"HCICG01\",\"DBLAB0201\",\"DBLAB0102\",\"DBLAB0301\",\"DBLAB0101\"}\\'))'"
      ]
     },
     "execution_count": 7,
     "metadata": {},
     "output_type": "execute_result"
    }
   ],
   "source": [
    "pos_query = \"select d.name, p.* from tc_positions p, tc_devices d where p.deviceid = d.id and d.id IN (select id from tc_devices where name=ANY('{0}'))\".format(users_str)\n",
    "pos_query"
   ]
  },
  {
   "cell_type": "code",
   "execution_count": 8,
   "metadata": {},
   "outputs": [],
   "source": [
    "#pos_query += \"LIMIT 10\"\n",
    "df = pd.read_sql_query(pos_query, engine)"
   ]
  },
  {
   "cell_type": "code",
   "execution_count": 9,
   "metadata": {},
   "outputs": [
    {
     "data": {
      "text/html": [
       "<div>\n",
       "<style scoped>\n",
       "    .dataframe tbody tr th:only-of-type {\n",
       "        vertical-align: middle;\n",
       "    }\n",
       "\n",
       "    .dataframe tbody tr th {\n",
       "        vertical-align: top;\n",
       "    }\n",
       "\n",
       "    .dataframe thead th {\n",
       "        text-align: right;\n",
       "    }\n",
       "</style>\n",
       "<table border=\"1\" class=\"dataframe\">\n",
       "  <thead>\n",
       "    <tr style=\"text-align: right;\">\n",
       "      <th></th>\n",
       "      <th>name</th>\n",
       "      <th>id</th>\n",
       "      <th>protocol</th>\n",
       "      <th>deviceid</th>\n",
       "      <th>servertime</th>\n",
       "      <th>devicetime</th>\n",
       "      <th>fixtime</th>\n",
       "      <th>valid</th>\n",
       "      <th>latitude</th>\n",
       "      <th>longitude</th>\n",
       "      <th>altitude</th>\n",
       "      <th>speed</th>\n",
       "      <th>course</th>\n",
       "      <th>address</th>\n",
       "      <th>attributes</th>\n",
       "      <th>accuracy</th>\n",
       "      <th>network</th>\n",
       "    </tr>\n",
       "  </thead>\n",
       "  <tbody>\n",
       "    <tr>\n",
       "      <th>0</th>\n",
       "      <td>DBLAB0301</td>\n",
       "      <td>286386</td>\n",
       "      <td>osmand</td>\n",
       "      <td>48</td>\n",
       "      <td>2019-01-16 14:49:08.835</td>\n",
       "      <td>2019-01-16 14:49:06</td>\n",
       "      <td>2019-01-16 14:49:06</td>\n",
       "      <td>True</td>\n",
       "      <td>37.555166</td>\n",
       "      <td>127.050135</td>\n",
       "      <td>26.661201</td>\n",
       "      <td>0.0</td>\n",
       "      <td>0.0</td>\n",
       "      <td>None</td>\n",
       "      <td>{\"batteryLevel\":74.0,\"distance\":0.0,\"totalDist...</td>\n",
       "      <td>0.0</td>\n",
       "      <td>null</td>\n",
       "    </tr>\n",
       "    <tr>\n",
       "      <th>1</th>\n",
       "      <td>DBLAB0301</td>\n",
       "      <td>286387</td>\n",
       "      <td>osmand</td>\n",
       "      <td>48</td>\n",
       "      <td>2019-01-16 14:50:05.620</td>\n",
       "      <td>2019-01-16 14:49:40</td>\n",
       "      <td>2019-01-16 14:49:40</td>\n",
       "      <td>True</td>\n",
       "      <td>37.555168</td>\n",
       "      <td>127.050031</td>\n",
       "      <td>27.668663</td>\n",
       "      <td>0.0</td>\n",
       "      <td>0.0</td>\n",
       "      <td>None</td>\n",
       "      <td>{\"batteryLevel\":74.0,\"distance\":9.18,\"totalDis...</td>\n",
       "      <td>0.0</td>\n",
       "      <td>null</td>\n",
       "    </tr>\n",
       "    <tr>\n",
       "      <th>2</th>\n",
       "      <td>DBLAB0301</td>\n",
       "      <td>286388</td>\n",
       "      <td>osmand</td>\n",
       "      <td>48</td>\n",
       "      <td>2019-01-16 14:50:22.141</td>\n",
       "      <td>2019-01-16 14:50:05</td>\n",
       "      <td>2019-01-16 14:50:05</td>\n",
       "      <td>True</td>\n",
       "      <td>37.555143</td>\n",
       "      <td>127.050146</td>\n",
       "      <td>27.339186</td>\n",
       "      <td>0.0</td>\n",
       "      <td>0.0</td>\n",
       "      <td>None</td>\n",
       "      <td>{\"batteryLevel\":74.0,\"distance\":10.52,\"totalDi...</td>\n",
       "      <td>0.0</td>\n",
       "      <td>null</td>\n",
       "    </tr>\n",
       "    <tr>\n",
       "      <th>3</th>\n",
       "      <td>DBLAB0301</td>\n",
       "      <td>286389</td>\n",
       "      <td>osmand</td>\n",
       "      <td>48</td>\n",
       "      <td>2019-01-16 14:50:31.135</td>\n",
       "      <td>2019-01-16 14:50:28</td>\n",
       "      <td>2019-01-16 14:50:28</td>\n",
       "      <td>True</td>\n",
       "      <td>37.555248</td>\n",
       "      <td>127.050002</td>\n",
       "      <td>27.484837</td>\n",
       "      <td>0.0</td>\n",
       "      <td>0.0</td>\n",
       "      <td>None</td>\n",
       "      <td>{\"batteryLevel\":74.0,\"distance\":17.27,\"totalDi...</td>\n",
       "      <td>0.0</td>\n",
       "      <td>null</td>\n",
       "    </tr>\n",
       "    <tr>\n",
       "      <th>4</th>\n",
       "      <td>DBLAB0301</td>\n",
       "      <td>286390</td>\n",
       "      <td>osmand</td>\n",
       "      <td>48</td>\n",
       "      <td>2019-01-16 14:50:35.049</td>\n",
       "      <td>2019-01-16 14:50:35</td>\n",
       "      <td>2019-01-16 14:50:35</td>\n",
       "      <td>True</td>\n",
       "      <td>37.555233</td>\n",
       "      <td>127.049978</td>\n",
       "      <td>27.477942</td>\n",
       "      <td>0.0</td>\n",
       "      <td>0.0</td>\n",
       "      <td>None</td>\n",
       "      <td>{\"batteryLevel\":74.0,\"distance\":2.7,\"totalDist...</td>\n",
       "      <td>0.0</td>\n",
       "      <td>null</td>\n",
       "    </tr>\n",
       "  </tbody>\n",
       "</table>\n",
       "</div>"
      ],
      "text/plain": [
       "        name      id protocol  deviceid              servertime  \\\n",
       "0  DBLAB0301  286386   osmand        48 2019-01-16 14:49:08.835   \n",
       "1  DBLAB0301  286387   osmand        48 2019-01-16 14:50:05.620   \n",
       "2  DBLAB0301  286388   osmand        48 2019-01-16 14:50:22.141   \n",
       "3  DBLAB0301  286389   osmand        48 2019-01-16 14:50:31.135   \n",
       "4  DBLAB0301  286390   osmand        48 2019-01-16 14:50:35.049   \n",
       "\n",
       "           devicetime             fixtime  valid   latitude   longitude  \\\n",
       "0 2019-01-16 14:49:06 2019-01-16 14:49:06   True  37.555166  127.050135   \n",
       "1 2019-01-16 14:49:40 2019-01-16 14:49:40   True  37.555168  127.050031   \n",
       "2 2019-01-16 14:50:05 2019-01-16 14:50:05   True  37.555143  127.050146   \n",
       "3 2019-01-16 14:50:28 2019-01-16 14:50:28   True  37.555248  127.050002   \n",
       "4 2019-01-16 14:50:35 2019-01-16 14:50:35   True  37.555233  127.049978   \n",
       "\n",
       "    altitude  speed  course address  \\\n",
       "0  26.661201    0.0     0.0    None   \n",
       "1  27.668663    0.0     0.0    None   \n",
       "2  27.339186    0.0     0.0    None   \n",
       "3  27.484837    0.0     0.0    None   \n",
       "4  27.477942    0.0     0.0    None   \n",
       "\n",
       "                                          attributes  accuracy network  \n",
       "0  {\"batteryLevel\":74.0,\"distance\":0.0,\"totalDist...       0.0    null  \n",
       "1  {\"batteryLevel\":74.0,\"distance\":9.18,\"totalDis...       0.0    null  \n",
       "2  {\"batteryLevel\":74.0,\"distance\":10.52,\"totalDi...       0.0    null  \n",
       "3  {\"batteryLevel\":74.0,\"distance\":17.27,\"totalDi...       0.0    null  \n",
       "4  {\"batteryLevel\":74.0,\"distance\":2.7,\"totalDist...       0.0    null  "
      ]
     },
     "execution_count": 9,
     "metadata": {},
     "output_type": "execute_result"
    }
   ],
   "source": [
    "df.head()"
   ]
  },
  {
   "cell_type": "code",
   "execution_count": 10,
   "metadata": {},
   "outputs": [
    {
     "data": {
      "text/plain": [
       "{'batteryLevel': 74.0, 'distance': 0.0, 'totalDistance': 0.0, 'motion': False}"
      ]
     },
     "execution_count": 10,
     "metadata": {},
     "output_type": "execute_result"
    }
   ],
   "source": [
    "json.loads(df['attributes'][0])"
   ]
  },
  {
   "cell_type": "code",
   "execution_count": 11,
   "metadata": {},
   "outputs": [],
   "source": [
    "df[\"battery_level\"] = df['attributes'].map(lambda x: json.loads(x)['batteryLevel'])\n",
    "df[\"dist\"] = df['attributes'].map(lambda x: json.loads(x)['distance'])\n",
    "df[\"total_dist\"] = df['attributes'].map(lambda x: json.loads(x)['totalDistance'])\n",
    "df[\"motion\"] = df['attributes'].map(lambda x: json.loads(x)['motion'])"
   ]
  },
  {
   "cell_type": "code",
   "execution_count": 12,
   "metadata": {},
   "outputs": [
    {
     "data": {
      "text/html": [
       "<div>\n",
       "<style scoped>\n",
       "    .dataframe tbody tr th:only-of-type {\n",
       "        vertical-align: middle;\n",
       "    }\n",
       "\n",
       "    .dataframe tbody tr th {\n",
       "        vertical-align: top;\n",
       "    }\n",
       "\n",
       "    .dataframe thead th {\n",
       "        text-align: right;\n",
       "    }\n",
       "</style>\n",
       "<table border=\"1\" class=\"dataframe\">\n",
       "  <thead>\n",
       "    <tr style=\"text-align: right;\">\n",
       "      <th></th>\n",
       "      <th>name</th>\n",
       "      <th>id</th>\n",
       "      <th>protocol</th>\n",
       "      <th>deviceid</th>\n",
       "      <th>servertime</th>\n",
       "      <th>devicetime</th>\n",
       "      <th>fixtime</th>\n",
       "      <th>valid</th>\n",
       "      <th>latitude</th>\n",
       "      <th>longitude</th>\n",
       "      <th>...</th>\n",
       "      <th>speed</th>\n",
       "      <th>course</th>\n",
       "      <th>address</th>\n",
       "      <th>attributes</th>\n",
       "      <th>accuracy</th>\n",
       "      <th>network</th>\n",
       "      <th>battery_level</th>\n",
       "      <th>dist</th>\n",
       "      <th>total_dist</th>\n",
       "      <th>motion</th>\n",
       "    </tr>\n",
       "  </thead>\n",
       "  <tbody>\n",
       "    <tr>\n",
       "      <th>0</th>\n",
       "      <td>DBLAB0301</td>\n",
       "      <td>286386</td>\n",
       "      <td>osmand</td>\n",
       "      <td>48</td>\n",
       "      <td>2019-01-16 14:49:08.835</td>\n",
       "      <td>2019-01-16 14:49:06</td>\n",
       "      <td>2019-01-16 14:49:06</td>\n",
       "      <td>True</td>\n",
       "      <td>37.555166</td>\n",
       "      <td>127.050135</td>\n",
       "      <td>...</td>\n",
       "      <td>0.0</td>\n",
       "      <td>0.0</td>\n",
       "      <td>None</td>\n",
       "      <td>{\"batteryLevel\":74.0,\"distance\":0.0,\"totalDist...</td>\n",
       "      <td>0.0</td>\n",
       "      <td>null</td>\n",
       "      <td>74.0</td>\n",
       "      <td>0.00</td>\n",
       "      <td>0.00</td>\n",
       "      <td>False</td>\n",
       "    </tr>\n",
       "    <tr>\n",
       "      <th>1</th>\n",
       "      <td>DBLAB0301</td>\n",
       "      <td>286387</td>\n",
       "      <td>osmand</td>\n",
       "      <td>48</td>\n",
       "      <td>2019-01-16 14:50:05.620</td>\n",
       "      <td>2019-01-16 14:49:40</td>\n",
       "      <td>2019-01-16 14:49:40</td>\n",
       "      <td>True</td>\n",
       "      <td>37.555168</td>\n",
       "      <td>127.050031</td>\n",
       "      <td>...</td>\n",
       "      <td>0.0</td>\n",
       "      <td>0.0</td>\n",
       "      <td>None</td>\n",
       "      <td>{\"batteryLevel\":74.0,\"distance\":9.18,\"totalDis...</td>\n",
       "      <td>0.0</td>\n",
       "      <td>null</td>\n",
       "      <td>74.0</td>\n",
       "      <td>9.18</td>\n",
       "      <td>9.18</td>\n",
       "      <td>False</td>\n",
       "    </tr>\n",
       "    <tr>\n",
       "      <th>2</th>\n",
       "      <td>DBLAB0301</td>\n",
       "      <td>286388</td>\n",
       "      <td>osmand</td>\n",
       "      <td>48</td>\n",
       "      <td>2019-01-16 14:50:22.141</td>\n",
       "      <td>2019-01-16 14:50:05</td>\n",
       "      <td>2019-01-16 14:50:05</td>\n",
       "      <td>True</td>\n",
       "      <td>37.555143</td>\n",
       "      <td>127.050146</td>\n",
       "      <td>...</td>\n",
       "      <td>0.0</td>\n",
       "      <td>0.0</td>\n",
       "      <td>None</td>\n",
       "      <td>{\"batteryLevel\":74.0,\"distance\":10.52,\"totalDi...</td>\n",
       "      <td>0.0</td>\n",
       "      <td>null</td>\n",
       "      <td>74.0</td>\n",
       "      <td>10.52</td>\n",
       "      <td>19.70</td>\n",
       "      <td>False</td>\n",
       "    </tr>\n",
       "    <tr>\n",
       "      <th>3</th>\n",
       "      <td>DBLAB0301</td>\n",
       "      <td>286389</td>\n",
       "      <td>osmand</td>\n",
       "      <td>48</td>\n",
       "      <td>2019-01-16 14:50:31.135</td>\n",
       "      <td>2019-01-16 14:50:28</td>\n",
       "      <td>2019-01-16 14:50:28</td>\n",
       "      <td>True</td>\n",
       "      <td>37.555248</td>\n",
       "      <td>127.050002</td>\n",
       "      <td>...</td>\n",
       "      <td>0.0</td>\n",
       "      <td>0.0</td>\n",
       "      <td>None</td>\n",
       "      <td>{\"batteryLevel\":74.0,\"distance\":17.27,\"totalDi...</td>\n",
       "      <td>0.0</td>\n",
       "      <td>null</td>\n",
       "      <td>74.0</td>\n",
       "      <td>17.27</td>\n",
       "      <td>36.97</td>\n",
       "      <td>False</td>\n",
       "    </tr>\n",
       "    <tr>\n",
       "      <th>4</th>\n",
       "      <td>DBLAB0301</td>\n",
       "      <td>286390</td>\n",
       "      <td>osmand</td>\n",
       "      <td>48</td>\n",
       "      <td>2019-01-16 14:50:35.049</td>\n",
       "      <td>2019-01-16 14:50:35</td>\n",
       "      <td>2019-01-16 14:50:35</td>\n",
       "      <td>True</td>\n",
       "      <td>37.555233</td>\n",
       "      <td>127.049978</td>\n",
       "      <td>...</td>\n",
       "      <td>0.0</td>\n",
       "      <td>0.0</td>\n",
       "      <td>None</td>\n",
       "      <td>{\"batteryLevel\":74.0,\"distance\":2.7,\"totalDist...</td>\n",
       "      <td>0.0</td>\n",
       "      <td>null</td>\n",
       "      <td>74.0</td>\n",
       "      <td>2.70</td>\n",
       "      <td>39.67</td>\n",
       "      <td>False</td>\n",
       "    </tr>\n",
       "  </tbody>\n",
       "</table>\n",
       "<p>5 rows × 21 columns</p>\n",
       "</div>"
      ],
      "text/plain": [
       "        name      id protocol  deviceid              servertime  \\\n",
       "0  DBLAB0301  286386   osmand        48 2019-01-16 14:49:08.835   \n",
       "1  DBLAB0301  286387   osmand        48 2019-01-16 14:50:05.620   \n",
       "2  DBLAB0301  286388   osmand        48 2019-01-16 14:50:22.141   \n",
       "3  DBLAB0301  286389   osmand        48 2019-01-16 14:50:31.135   \n",
       "4  DBLAB0301  286390   osmand        48 2019-01-16 14:50:35.049   \n",
       "\n",
       "           devicetime             fixtime  valid   latitude   longitude  \\\n",
       "0 2019-01-16 14:49:06 2019-01-16 14:49:06   True  37.555166  127.050135   \n",
       "1 2019-01-16 14:49:40 2019-01-16 14:49:40   True  37.555168  127.050031   \n",
       "2 2019-01-16 14:50:05 2019-01-16 14:50:05   True  37.555143  127.050146   \n",
       "3 2019-01-16 14:50:28 2019-01-16 14:50:28   True  37.555248  127.050002   \n",
       "4 2019-01-16 14:50:35 2019-01-16 14:50:35   True  37.555233  127.049978   \n",
       "\n",
       "    ...    speed  course  address  \\\n",
       "0   ...      0.0     0.0     None   \n",
       "1   ...      0.0     0.0     None   \n",
       "2   ...      0.0     0.0     None   \n",
       "3   ...      0.0     0.0     None   \n",
       "4   ...      0.0     0.0     None   \n",
       "\n",
       "                                          attributes accuracy  network  \\\n",
       "0  {\"batteryLevel\":74.0,\"distance\":0.0,\"totalDist...      0.0     null   \n",
       "1  {\"batteryLevel\":74.0,\"distance\":9.18,\"totalDis...      0.0     null   \n",
       "2  {\"batteryLevel\":74.0,\"distance\":10.52,\"totalDi...      0.0     null   \n",
       "3  {\"batteryLevel\":74.0,\"distance\":17.27,\"totalDi...      0.0     null   \n",
       "4  {\"batteryLevel\":74.0,\"distance\":2.7,\"totalDist...      0.0     null   \n",
       "\n",
       "  battery_level   dist  total_dist  motion  \n",
       "0          74.0   0.00        0.00   False  \n",
       "1          74.0   9.18        9.18   False  \n",
       "2          74.0  10.52       19.70   False  \n",
       "3          74.0  17.27       36.97   False  \n",
       "4          74.0   2.70       39.67   False  \n",
       "\n",
       "[5 rows x 21 columns]"
      ]
     },
     "execution_count": 12,
     "metadata": {},
     "output_type": "execute_result"
    }
   ],
   "source": [
    "df.head()"
   ]
  },
  {
   "cell_type": "code",
   "execution_count": 13,
   "metadata": {},
   "outputs": [],
   "source": [
    "# attributes are flatted\n",
    "# addresses are N/A in Korea\n",
    "df.drop([\"attributes\", \"address\"], axis=1, inplace=True)"
   ]
  },
  {
   "cell_type": "code",
   "execution_count": 14,
   "metadata": {},
   "outputs": [
    {
     "data": {
      "text/plain": [
       "(26535, 19)"
      ]
     },
     "execution_count": 14,
     "metadata": {},
     "output_type": "execute_result"
    }
   ],
   "source": [
    "df.shape"
   ]
  },
  {
   "cell_type": "code",
   "execution_count": 15,
   "metadata": {},
   "outputs": [],
   "source": [
    "cols = list(df)\n",
    "nunique = df.apply(pd.Series.nunique)\n",
    "cols_to_drop = nunique[nunique == 1].index\n",
    "df.drop(cols_to_drop, axis=1, inplace=True)"
   ]
  },
  {
   "cell_type": "code",
   "execution_count": 16,
   "metadata": {},
   "outputs": [
    {
     "data": {
      "text/html": [
       "<div>\n",
       "<style scoped>\n",
       "    .dataframe tbody tr th:only-of-type {\n",
       "        vertical-align: middle;\n",
       "    }\n",
       "\n",
       "    .dataframe tbody tr th {\n",
       "        vertical-align: top;\n",
       "    }\n",
       "\n",
       "    .dataframe thead th {\n",
       "        text-align: right;\n",
       "    }\n",
       "</style>\n",
       "<table border=\"1\" class=\"dataframe\">\n",
       "  <thead>\n",
       "    <tr style=\"text-align: right;\">\n",
       "      <th></th>\n",
       "      <th>name</th>\n",
       "      <th>id</th>\n",
       "      <th>deviceid</th>\n",
       "      <th>servertime</th>\n",
       "      <th>devicetime</th>\n",
       "      <th>fixtime</th>\n",
       "      <th>latitude</th>\n",
       "      <th>longitude</th>\n",
       "      <th>altitude</th>\n",
       "      <th>speed</th>\n",
       "      <th>course</th>\n",
       "      <th>accuracy</th>\n",
       "      <th>battery_level</th>\n",
       "      <th>dist</th>\n",
       "      <th>total_dist</th>\n",
       "      <th>motion</th>\n",
       "    </tr>\n",
       "  </thead>\n",
       "  <tbody>\n",
       "    <tr>\n",
       "      <th>0</th>\n",
       "      <td>DBLAB0301</td>\n",
       "      <td>286386</td>\n",
       "      <td>48</td>\n",
       "      <td>2019-01-16 14:49:08.835</td>\n",
       "      <td>2019-01-16 14:49:06</td>\n",
       "      <td>2019-01-16 14:49:06</td>\n",
       "      <td>37.555166</td>\n",
       "      <td>127.050135</td>\n",
       "      <td>26.661201</td>\n",
       "      <td>0.0</td>\n",
       "      <td>0.0</td>\n",
       "      <td>0.0</td>\n",
       "      <td>74.0</td>\n",
       "      <td>0.00</td>\n",
       "      <td>0.00</td>\n",
       "      <td>False</td>\n",
       "    </tr>\n",
       "    <tr>\n",
       "      <th>1</th>\n",
       "      <td>DBLAB0301</td>\n",
       "      <td>286387</td>\n",
       "      <td>48</td>\n",
       "      <td>2019-01-16 14:50:05.620</td>\n",
       "      <td>2019-01-16 14:49:40</td>\n",
       "      <td>2019-01-16 14:49:40</td>\n",
       "      <td>37.555168</td>\n",
       "      <td>127.050031</td>\n",
       "      <td>27.668663</td>\n",
       "      <td>0.0</td>\n",
       "      <td>0.0</td>\n",
       "      <td>0.0</td>\n",
       "      <td>74.0</td>\n",
       "      <td>9.18</td>\n",
       "      <td>9.18</td>\n",
       "      <td>False</td>\n",
       "    </tr>\n",
       "    <tr>\n",
       "      <th>2</th>\n",
       "      <td>DBLAB0301</td>\n",
       "      <td>286388</td>\n",
       "      <td>48</td>\n",
       "      <td>2019-01-16 14:50:22.141</td>\n",
       "      <td>2019-01-16 14:50:05</td>\n",
       "      <td>2019-01-16 14:50:05</td>\n",
       "      <td>37.555143</td>\n",
       "      <td>127.050146</td>\n",
       "      <td>27.339186</td>\n",
       "      <td>0.0</td>\n",
       "      <td>0.0</td>\n",
       "      <td>0.0</td>\n",
       "      <td>74.0</td>\n",
       "      <td>10.52</td>\n",
       "      <td>19.70</td>\n",
       "      <td>False</td>\n",
       "    </tr>\n",
       "    <tr>\n",
       "      <th>3</th>\n",
       "      <td>DBLAB0301</td>\n",
       "      <td>286389</td>\n",
       "      <td>48</td>\n",
       "      <td>2019-01-16 14:50:31.135</td>\n",
       "      <td>2019-01-16 14:50:28</td>\n",
       "      <td>2019-01-16 14:50:28</td>\n",
       "      <td>37.555248</td>\n",
       "      <td>127.050002</td>\n",
       "      <td>27.484837</td>\n",
       "      <td>0.0</td>\n",
       "      <td>0.0</td>\n",
       "      <td>0.0</td>\n",
       "      <td>74.0</td>\n",
       "      <td>17.27</td>\n",
       "      <td>36.97</td>\n",
       "      <td>False</td>\n",
       "    </tr>\n",
       "    <tr>\n",
       "      <th>4</th>\n",
       "      <td>DBLAB0301</td>\n",
       "      <td>286390</td>\n",
       "      <td>48</td>\n",
       "      <td>2019-01-16 14:50:35.049</td>\n",
       "      <td>2019-01-16 14:50:35</td>\n",
       "      <td>2019-01-16 14:50:35</td>\n",
       "      <td>37.555233</td>\n",
       "      <td>127.049978</td>\n",
       "      <td>27.477942</td>\n",
       "      <td>0.0</td>\n",
       "      <td>0.0</td>\n",
       "      <td>0.0</td>\n",
       "      <td>74.0</td>\n",
       "      <td>2.70</td>\n",
       "      <td>39.67</td>\n",
       "      <td>False</td>\n",
       "    </tr>\n",
       "  </tbody>\n",
       "</table>\n",
       "</div>"
      ],
      "text/plain": [
       "        name      id  deviceid              servertime          devicetime  \\\n",
       "0  DBLAB0301  286386        48 2019-01-16 14:49:08.835 2019-01-16 14:49:06   \n",
       "1  DBLAB0301  286387        48 2019-01-16 14:50:05.620 2019-01-16 14:49:40   \n",
       "2  DBLAB0301  286388        48 2019-01-16 14:50:22.141 2019-01-16 14:50:05   \n",
       "3  DBLAB0301  286389        48 2019-01-16 14:50:31.135 2019-01-16 14:50:28   \n",
       "4  DBLAB0301  286390        48 2019-01-16 14:50:35.049 2019-01-16 14:50:35   \n",
       "\n",
       "              fixtime   latitude   longitude   altitude  speed  course  \\\n",
       "0 2019-01-16 14:49:06  37.555166  127.050135  26.661201    0.0     0.0   \n",
       "1 2019-01-16 14:49:40  37.555168  127.050031  27.668663    0.0     0.0   \n",
       "2 2019-01-16 14:50:05  37.555143  127.050146  27.339186    0.0     0.0   \n",
       "3 2019-01-16 14:50:28  37.555248  127.050002  27.484837    0.0     0.0   \n",
       "4 2019-01-16 14:50:35  37.555233  127.049978  27.477942    0.0     0.0   \n",
       "\n",
       "   accuracy  battery_level   dist  total_dist  motion  \n",
       "0       0.0           74.0   0.00        0.00   False  \n",
       "1       0.0           74.0   9.18        9.18   False  \n",
       "2       0.0           74.0  10.52       19.70   False  \n",
       "3       0.0           74.0  17.27       36.97   False  \n",
       "4       0.0           74.0   2.70       39.67   False  "
      ]
     },
     "execution_count": 16,
     "metadata": {},
     "output_type": "execute_result"
    }
   ],
   "source": [
    "df.head()"
   ]
  },
  {
   "cell_type": "code",
   "execution_count": 35,
   "metadata": {},
   "outputs": [],
   "source": [
    "#position by users\n",
    "\n",
    "pos = {}\n",
    "for idx, user in users.iterrows():\n",
    "    pos[user['name']] = df[df['name'] == user['name']].sort_values(by=\"fixtime\")"
   ]
  },
  {
   "cell_type": "code",
   "execution_count": 37,
   "metadata": {},
   "outputs": [],
   "source": [
    "pos_original = copy.deepcopy(pos) #backup positions"
   ]
  },
  {
   "cell_type": "code",
   "execution_count": null,
   "metadata": {},
   "outputs": [],
   "source": [
    "def daterange(start_date, end_date):\n",
    "    for n in range(int ((end_date - start_date).days)):\n",
    "        yield start_date + timedelta(n)"
   ]
  },
  {
   "cell_type": "code",
   "execution_count": 62,
   "metadata": {},
   "outputs": [
    {
     "data": {
      "text/plain": [
       "{'DBLAB0103': {'start': Timestamp('2019-01-20 23:34:49'),\n",
       "  'end': Timestamp('2019-01-25 09:05:07'),\n",
       "  'delta': Timedelta('4 days 09:30:18'),\n",
       "  'range': <generator object daterange at 0x7fa41740a840>},\n",
       " 'HCICG01': {'start': Timestamp('2019-01-17 18:26:46'),\n",
       "  'end': Timestamp('2019-01-25 14:07:59'),\n",
       "  'delta': Timedelta('7 days 19:41:13'),\n",
       "  'range': <generator object daterange at 0x7fa41740a8b8>},\n",
       " 'DBLAB0201': {'start': Timestamp('2019-01-16 15:18:14'),\n",
       "  'end': Timestamp('2019-01-25 14:20:56'),\n",
       "  'delta': Timedelta('8 days 23:02:42'),\n",
       "  'range': <generator object daterange at 0x7fa41740a930>},\n",
       " 'DBLAB0102': {'start': Timestamp('2019-01-20 21:52:58'),\n",
       "  'end': Timestamp('2019-01-25 14:21:09'),\n",
       "  'delta': Timedelta('4 days 16:28:11'),\n",
       "  'range': <generator object daterange at 0x7fa41740a9a8>},\n",
       " 'DBLAB0301': {'start': Timestamp('2019-01-16 14:49:06'),\n",
       "  'end': Timestamp('2019-01-18 09:47:03'),\n",
       "  'delta': Timedelta('1 days 18:57:57'),\n",
       "  'range': <generator object daterange at 0x7fa41740aa20>},\n",
       " 'DBLAB0101': {'start': Timestamp('2019-01-16 14:55:42'),\n",
       "  'end': Timestamp('2019-01-20 17:54:20'),\n",
       "  'delta': Timedelta('4 days 02:58:38'),\n",
       "  'range': <generator object daterange at 0x7fa41740aa98>}}"
      ]
     },
     "execution_count": 62,
     "metadata": {},
     "output_type": "execute_result"
    }
   ],
   "source": [
    "#experiment period by users\n",
    "\n",
    "period = {}\n",
    "for user in users['name']:\n",
    "    period[user] = {}\n",
    "    period[user]['start'], period[user]['end'] = pos[user]['devicetime'].min(), pos[user]['devicetime'].max()\n",
    "    period[user]['delta'] = period[user]['end'] - period[user]['start']\n",
    "    period[user]['range'] = daterange(period[user]['start'], period[user]['end'])\n",
    "\n",
    "period"
   ]
  },
  {
   "cell_type": "code",
   "execution_count": 64,
   "metadata": {},
   "outputs": [
    {
     "name": "stdout",
     "output_type": "stream",
     "text": [
      "2019-01-20 23:34:49 2019-01-25 09:05:07\n",
      "[Timestamp('2019-01-20 00:00:00'), Timestamp('2019-01-21 00:00:00'), Timestamp('2019-01-22 00:00:00'), Timestamp('2019-01-23 00:00:00')]\n"
     ]
    }
   ],
   "source": [
    "# day iteration test\n",
    "start_date, end_date = period['DBLAB0103']['start'], period['DBLAB0103']['end']\n",
    "print(start_date, end_date)\n",
    "days = []\n",
    "for single_date in daterange(start_date, end_date):\n",
    "    days.append(single_date.replace(hour=0, minute=0, second=0))\n",
    "print(days)"
   ]
  },
  {
   "cell_type": "code",
   "execution_count": 56,
   "metadata": {},
   "outputs": [
    {
     "data": {
      "text/plain": [
       "True"
      ]
     },
     "execution_count": 56,
     "metadata": {},
     "output_type": "execute_result"
    }
   ],
   "source": []
  },
  {
   "cell_type": "code",
   "execution_count": 19,
   "metadata": {},
   "outputs": [
    {
     "name": "stdout",
     "output_type": "stream",
     "text": [
      "2019-01-16 14:49:06\n"
     ]
    }
   ],
   "source": [
    "for idx, day in df.groupby(df['devicetime']):\n",
    "    #print(day.head())\n",
    "    print(idx)\n",
    "    break"
   ]
  },
  {
   "cell_type": "code",
   "execution_count": null,
   "metadata": {},
   "outputs": [],
   "source": []
  }
 ],
 "metadata": {
  "kernelspec": {
   "display_name": "Python 3",
   "language": "python",
   "name": "python3"
  },
  "language_info": {
   "codemirror_mode": {
    "name": "ipython",
    "version": 3
   },
   "file_extension": ".py",
   "mimetype": "text/x-python",
   "name": "python",
   "nbconvert_exporter": "python",
   "pygments_lexer": "ipython3",
   "version": "3.7.1"
  }
 },
 "nbformat": 4,
 "nbformat_minor": 2
}
